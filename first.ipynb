{
 "cells": [
  {
   "cell_type": "code",
   "execution_count": 3,
   "metadata": {},
   "outputs": [
    {
     "name": "stdout",
     "output_type": "stream",
     "text": [
      "enter the first no.4\n",
      "enter the second no.4\n",
      "the sum is :  8\n"
     ]
    }
   ],
   "source": [
    "#first python code\n",
    "#sum of two numbers\n",
    "sum=0\n",
    "n=input(\"enter the first no.\")\n",
    "b=input(\"enter the second no.\")\n",
    "sum=int(n) + int(b)\n",
    "print(\"the sum is : \",sum)\n"
   ]
  }
 ],
 "metadata": {
  "kernelspec": {
   "display_name": "Python 3",
   "language": "python",
   "name": "python3"
  },
  "language_info": {
   "codemirror_mode": {
    "name": "ipython",
    "version": 3
   },
   "file_extension": ".py",
   "mimetype": "text/x-python",
   "name": "python",
   "nbconvert_exporter": "python",
   "pygments_lexer": "ipython3",
   "version": "3.6.4"
  }
 },
 "nbformat": 4,
 "nbformat_minor": 2
}
